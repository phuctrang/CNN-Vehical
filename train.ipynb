{
 "cells": [
  {
   "cell_type": "code",
   "execution_count": 52,
   "metadata": {},
   "outputs": [],
   "source": [
    "import numpy as np\n",
    "import pandas as pd\n",
    "import matplotlib.pyplot as plt\n",
    "import tensorflow as tf \n",
    "from PIL import Image\n",
    "import os \n",
    "from sklearn.model_selection import train_test_split \n",
    "from keras.utils import to_categorical \n",
    "from keras.models import Sequential \n",
    "from keras.layers import Conv2D, MaxPool2D, Dense, Flatten, Dropout"
   ]
  },
  {
   "cell_type": "code",
   "execution_count": 139,
   "metadata": {},
   "outputs": [
    {
     "data": {
      "text/plain": [
       "'c:\\\\Users\\\\HoPhucTrang\\\\Desktop\\\\Intership_TMA\\\\Task\\\\middle'"
      ]
     },
     "execution_count": 139,
     "metadata": {},
     "output_type": "execute_result"
    }
   ],
   "source": [
    "data = []\n",
    "labels = []\n",
    "classes = 3 \n",
    "cur_path = os.getcwd() \n",
    "cur_path"
   ]
  },
  {
   "cell_type": "code",
   "execution_count": 140,
   "metadata": {},
   "outputs": [],
   "source": [
    "import cv2"
   ]
  },
  {
   "cell_type": "code",
   "execution_count": 141,
   "metadata": {},
   "outputs": [],
   "source": [
    "for i in range(classes): \n",
    "    path = os. path.join(cur_path,'train', str(i)) \n",
    "    images = os.listdir(path) \n",
    "    for a in images: \n",
    "        image = cv2.imread(str(path + '/' + a)) \n",
    "        image = cv2.resize(image, (180,180)) \n",
    "        # image = np.array(image)\n",
    "        data.append(image) \n",
    "        labels.append(i) "
   ]
  },
  {
   "cell_type": "code",
   "execution_count": 142,
   "metadata": {},
   "outputs": [
    {
     "data": {
      "text/plain": [
       "1124"
      ]
     },
     "execution_count": 142,
     "metadata": {},
     "output_type": "execute_result"
    }
   ],
   "source": [
    "len(data)"
   ]
  },
  {
   "cell_type": "code",
   "execution_count": 143,
   "metadata": {},
   "outputs": [
    {
     "data": {
      "text/plain": [
       "1124"
      ]
     },
     "execution_count": 143,
     "metadata": {},
     "output_type": "execute_result"
    }
   ],
   "source": [
    "len(labels)"
   ]
  },
  {
   "cell_type": "code",
   "execution_count": 144,
   "metadata": {},
   "outputs": [
    {
     "data": {
      "text/plain": [
       "(180, 180, 3)"
      ]
     },
     "execution_count": 144,
     "metadata": {},
     "output_type": "execute_result"
    }
   ],
   "source": [
    "data[0].shape"
   ]
  },
  {
   "cell_type": "code",
   "execution_count": 120,
   "metadata": {},
   "outputs": [
    {
     "data": {
      "text/plain": [
       "array([[[247, 219, 154],\n",
       "        [247, 219, 154],\n",
       "        [247, 219, 154],\n",
       "        ...,\n",
       "        [247, 219, 154],\n",
       "        [247, 219, 154],\n",
       "        [247, 219, 154]],\n",
       "\n",
       "       [[247, 219, 154],\n",
       "        [247, 219, 154],\n",
       "        [247, 219, 154],\n",
       "        ...,\n",
       "        [247, 219, 154],\n",
       "        [247, 219, 154],\n",
       "        [247, 219, 154]],\n",
       "\n",
       "       [[247, 219, 154],\n",
       "        [247, 219, 154],\n",
       "        [247, 219, 154],\n",
       "        ...,\n",
       "        [247, 219, 154],\n",
       "        [247, 219, 154],\n",
       "        [247, 219, 154]],\n",
       "\n",
       "       ...,\n",
       "\n",
       "       [[247, 219, 154],\n",
       "        [247, 219, 154],\n",
       "        [247, 219, 154],\n",
       "        ...,\n",
       "        [247, 219, 154],\n",
       "        [247, 219, 154],\n",
       "        [247, 219, 154]],\n",
       "\n",
       "       [[247, 219, 154],\n",
       "        [247, 219, 154],\n",
       "        [247, 219, 154],\n",
       "        ...,\n",
       "        [247, 219, 154],\n",
       "        [247, 219, 154],\n",
       "        [247, 219, 154]],\n",
       "\n",
       "       [[247, 219, 154],\n",
       "        [247, 219, 154],\n",
       "        [247, 219, 154],\n",
       "        ...,\n",
       "        [247, 219, 154],\n",
       "        [247, 219, 154],\n",
       "        [247, 219, 154]]], dtype=uint8)"
      ]
     },
     "execution_count": 120,
     "metadata": {},
     "output_type": "execute_result"
    }
   ],
   "source": [
    "data[0]"
   ]
  },
  {
   "cell_type": "code",
   "execution_count": 146,
   "metadata": {},
   "outputs": [],
   "source": [
    "data = np.array(data)\n",
    "labels = np.array(labels)"
   ]
  },
  {
   "cell_type": "code",
   "execution_count": 147,
   "metadata": {},
   "outputs": [
    {
     "data": {
      "text/plain": [
       "1124"
      ]
     },
     "execution_count": 147,
     "metadata": {},
     "output_type": "execute_result"
    }
   ],
   "source": [
    "len(data)"
   ]
  },
  {
   "cell_type": "code",
   "execution_count": 123,
   "metadata": {},
   "outputs": [
    {
     "data": {
      "text/plain": [
       "array([[[247, 219, 154],\n",
       "        [247, 219, 154],\n",
       "        [247, 219, 154],\n",
       "        ...,\n",
       "        [247, 219, 154],\n",
       "        [247, 219, 154],\n",
       "        [247, 219, 154]],\n",
       "\n",
       "       [[247, 219, 154],\n",
       "        [247, 219, 154],\n",
       "        [247, 219, 154],\n",
       "        ...,\n",
       "        [247, 219, 154],\n",
       "        [247, 219, 154],\n",
       "        [247, 219, 154]],\n",
       "\n",
       "       [[247, 219, 154],\n",
       "        [247, 219, 154],\n",
       "        [247, 219, 154],\n",
       "        ...,\n",
       "        [247, 219, 154],\n",
       "        [247, 219, 154],\n",
       "        [247, 219, 154]],\n",
       "\n",
       "       ...,\n",
       "\n",
       "       [[247, 219, 154],\n",
       "        [247, 219, 154],\n",
       "        [247, 219, 154],\n",
       "        ...,\n",
       "        [247, 219, 154],\n",
       "        [247, 219, 154],\n",
       "        [247, 219, 154]],\n",
       "\n",
       "       [[247, 219, 154],\n",
       "        [247, 219, 154],\n",
       "        [247, 219, 154],\n",
       "        ...,\n",
       "        [247, 219, 154],\n",
       "        [247, 219, 154],\n",
       "        [247, 219, 154]],\n",
       "\n",
       "       [[247, 219, 154],\n",
       "        [247, 219, 154],\n",
       "        [247, 219, 154],\n",
       "        ...,\n",
       "        [247, 219, 154],\n",
       "        [247, 219, 154],\n",
       "        [247, 219, 154]]], dtype=uint8)"
      ]
     },
     "execution_count": 123,
     "metadata": {},
     "output_type": "execute_result"
    }
   ],
   "source": [
    "data[0]"
   ]
  },
  {
   "cell_type": "code",
   "execution_count": 148,
   "metadata": {},
   "outputs": [],
   "source": [
    "#Splitting training and testing dataset\n",
    "X_train, X_val, y_train, y_val = train_test_split(data, labels, test_size=0.2, random_state=42)\n",
    "# validation_data 20% ./"
   ]
  },
  {
   "cell_type": "code",
   "execution_count": 149,
   "metadata": {},
   "outputs": [
    {
     "data": {
      "text/plain": [
       "899"
      ]
     },
     "execution_count": 149,
     "metadata": {},
     "output_type": "execute_result"
    }
   ],
   "source": [
    "len(X_train)"
   ]
  },
  {
   "cell_type": "code",
   "execution_count": 150,
   "metadata": {},
   "outputs": [
    {
     "data": {
      "text/plain": [
       "(899, 180, 180, 3)"
      ]
     },
     "execution_count": 150,
     "metadata": {},
     "output_type": "execute_result"
    }
   ],
   "source": [
    "X_train.shape"
   ]
  },
  {
   "cell_type": "code",
   "execution_count": 151,
   "metadata": {},
   "outputs": [],
   "source": [
    "#Converting the labels into one hot encoding\n",
    "y_train = to_categorical(y_train, 3)\n",
    "y_val = to_categorical(y_val, 3)"
   ]
  },
  {
   "cell_type": "code",
   "execution_count": 152,
   "metadata": {},
   "outputs": [
    {
     "data": {
      "text/plain": [
       "(180, 180, 3)"
      ]
     },
     "execution_count": 152,
     "metadata": {},
     "output_type": "execute_result"
    }
   ],
   "source": [
    "input= X_train.shape[1:]\n",
    "input"
   ]
  },
  {
   "cell_type": "code",
   "execution_count": 153,
   "metadata": {},
   "outputs": [],
   "source": [
    "#Building the model\n",
    "model = Sequential()\n",
    "model.add(Conv2D(filters=32, kernel_size=(5,5), activation='relu', input_shape=input))\n",
    "model.add(Conv2D(filters=32, kernel_size=(5,5), activation='relu'))\n",
    "model.add(MaxPool2D(pool_size=(2, 2)))\n",
    "model.add(Dropout(rate=0.25))\n",
    "model.add(Conv2D(filters=64, kernel_size=(3, 3), activation='relu'))\n",
    "model.add(Conv2D(filters=64, kernel_size=(3, 3), activation='relu'))\n",
    "model.add(MaxPool2D(pool_size=(2, 2)))\n",
    "model.add(Dropout(rate=0.25))\n",
    "model.add(Flatten())\n",
    "model.add(Dense(256, activation='relu'))\n",
    "model.add(Dropout(rate=0.5))\n",
    "model.add(Dense(3, activation='softmax'))"
   ]
  },
  {
   "cell_type": "code",
   "execution_count": 154,
   "metadata": {},
   "outputs": [],
   "source": [
    "#Compilation of the model\n",
    "model.compile(loss='categorical_crossentropy', optimizer='adam', metrics=['accuracy'])"
   ]
  },
  {
   "cell_type": "markdown",
   "metadata": {},
   "source": [
    "Dự đoán của bạn là đúng, việc chia một hình ảnh cho 255 chỉ đơn giản là thay đổi tỷ lệ hình ảnh từ 0-255 thành 0-1. (Chuyển đổi nó thành float từ int cũng giúp cho việc tính toán thuận tiện hơn) Tuy nhiên, không bắt buộc"
   ]
  },
  {
   "cell_type": "markdown",
   "metadata": {},
   "source": [
    "## Regular data"
   ]
  },
  {
   "cell_type": "code",
   "execution_count": 157,
   "metadata": {},
   "outputs": [
    {
     "name": "stdout",
     "output_type": "stream",
     "text": [
      "Epoch 1/15\n",
      "113/113 [==============================] - 278s 2s/step - loss: 0.9671 - accuracy: 0.5061 - val_loss: 1.0309 - val_accuracy: 0.4800\n",
      "Epoch 2/15\n",
      "113/113 [==============================] - 260s 2s/step - loss: 0.9281 - accuracy: 0.5184 - val_loss: 0.7105 - val_accuracy: 0.6889\n",
      "Epoch 3/15\n",
      "113/113 [==============================] - 257s 2s/step - loss: 0.6948 - accuracy: 0.7175 - val_loss: 0.5003 - val_accuracy: 0.7822\n",
      "Epoch 4/15\n",
      "113/113 [==============================] - 245s 2s/step - loss: 0.3719 - accuracy: 0.8521 - val_loss: 0.2513 - val_accuracy: 0.9156\n",
      "Epoch 5/15\n",
      "113/113 [==============================] - 243s 2s/step - loss: 0.3184 - accuracy: 0.9021 - val_loss: 0.2251 - val_accuracy: 0.9511\n",
      "Epoch 6/15\n",
      "113/113 [==============================] - 244s 2s/step - loss: 0.1369 - accuracy: 0.9422 - val_loss: 0.1053 - val_accuracy: 0.9689\n",
      "Epoch 7/15\n",
      "113/113 [==============================] - 244s 2s/step - loss: 0.1529 - accuracy: 0.9499 - val_loss: 0.1343 - val_accuracy: 0.9733\n",
      "Epoch 8/15\n",
      "113/113 [==============================] - 250s 2s/step - loss: 0.0848 - accuracy: 0.9800 - val_loss: 0.1415 - val_accuracy: 0.9867\n",
      "Epoch 9/15\n",
      "113/113 [==============================] - 244s 2s/step - loss: 0.7348 - accuracy: 0.7030 - val_loss: 0.5535 - val_accuracy: 0.7378\n",
      "Epoch 10/15\n",
      "113/113 [==============================] - 244s 2s/step - loss: 0.4555 - accuracy: 0.8765 - val_loss: 0.6674 - val_accuracy: 0.8044\n",
      "Epoch 11/15\n",
      "113/113 [==============================] - 244s 2s/step - loss: 0.4342 - accuracy: 0.8788 - val_loss: 0.4620 - val_accuracy: 0.8222\n",
      "Epoch 12/15\n",
      "113/113 [==============================] - 241s 2s/step - loss: 0.2078 - accuracy: 0.9377 - val_loss: 0.3756 - val_accuracy: 0.9733\n",
      "Epoch 13/15\n",
      "113/113 [==============================] - 241s 2s/step - loss: 0.1644 - accuracy: 0.9533 - val_loss: 0.1750 - val_accuracy: 0.9644\n",
      "Epoch 14/15\n",
      "113/113 [==============================] - 267s 2s/step - loss: 0.3433 - accuracy: 0.9533 - val_loss: 0.1412 - val_accuracy: 0.9733\n",
      "Epoch 15/15\n",
      "113/113 [==============================] - 284s 3s/step - loss: 0.1796 - accuracy: 0.9566 - val_loss: 0.0848 - val_accuracy: 0.9822\n"
     ]
    }
   ],
   "source": [
    "epochs = 15\n",
    "history = model.fit(X_train, y_train, batch_size=8, epochs=epochs, validation_data=(X_val, y_val))"
   ]
  },
  {
   "cell_type": "code",
   "execution_count": 158,
   "metadata": {},
   "outputs": [
    {
     "data": {
      "image/png": "[encoded data removed]",
      "text/plain": [
       "<Figure size 432x288 with 1 Axes>"
      ]
     },
     "metadata": {
      "needs_background": "light"
     },
     "output_type": "display_data"
    },
    {
     "data": {
      "image/png": "[encoded data removed]",
      "text/plain": [
       "<Figure size 432x288 with 1 Axes>"
      ]
     },
     "metadata": {
      "needs_background": "light"
     },
     "output_type": "display_data"
    }
   ],
   "source": [
    "#plotting graphs for accuracy\n",
    "plt.figure(0)\n",
    "plt.plot(history.history['accuracy'], label='training accuracy')\n",
    "plt.plot(history.history['val_accuracy'], label='val accuracy')\n",
    "plt.title('Accuracy')\n",
    "plt.xlabel('epochs')\n",
    "plt.ylabel('accuracy')\n",
    "plt.legend()\n",
    "plt.show()\n",
    "\n",
    "plt.figure(1)\n",
    "plt.plot(history.history['loss'], label='training loss')\n",
    "plt.plot(history.history['val_loss'], label='val loss')\n",
    "plt.title('Loss')\n",
    "plt.xlabel('epochs')\n",
    "plt.ylabel('loss')\n",
    "plt.legend()\n",
    "plt.show()"
   ]
  },
  {
   "cell_type": "code",
   "execution_count": 173,
   "metadata": {},
   "outputs": [
    {
     "name": "stdout",
     "output_type": "stream",
     "text": [
      "8/8 [==============================] - 17s 2s/step - loss: 0.0848 - accuracy: 0.9822\n"
     ]
    },
    {
     "data": {
      "text/plain": [
       "[0.08483041822910309, 0.9822221994400024]"
      ]
     },
     "execution_count": 173,
     "metadata": {},
     "output_type": "execute_result"
    }
   ],
   "source": [
    "model.evaluate(X_val,y_val)"
   ]
  },
  {
   "cell_type": "code",
   "execution_count": 175,
   "metadata": {},
   "outputs": [],
   "source": [
    "data_test = []\n",
    "labels_test = []\n",
    "for i in range(classes): \n",
    "    path = os. path.join(cur_path,'test', str(i)) \n",
    "    images = os.listdir(path) \n",
    "    for a in images: \n",
    "        image = cv2.imread(str(path + '/' + a)) \n",
    "        image = cv2.resize(image, (180,180)) \n",
    "        # image = np.array(image)\n",
    "        data_test.append(image) \n",
    "        labels_test.append(i) "
   ]
  },
  {
   "cell_type": "code",
   "execution_count": 176,
   "metadata": {},
   "outputs": [],
   "source": [
    "data_test = np.array(data_test)\n",
    "labels_test = np.array(labels_test)"
   ]
  },
  {
   "cell_type": "code",
   "execution_count": 178,
   "metadata": {},
   "outputs": [
    {
     "name": "stdout",
     "output_type": "stream",
     "text": [
      "8/8 [==============================] - 18s 2s/step\n"
     ]
    }
   ],
   "source": [
    "y_pred = model.predict(data_test)"
   ]
  },
  {
   "cell_type": "code",
   "execution_count": 179,
   "metadata": {},
   "outputs": [
    {
     "data": {
      "text/plain": [
       "array([[1.00000000e+00, 4.56870787e-29, 3.34646050e-33],\n",
       "       [1.00000000e+00, 6.34019399e-21, 1.26567567e-17],\n",
       "       [1.00000000e+00, 1.33083763e-15, 1.67166492e-16],\n",
       "       [9.99999881e-01, 2.94351583e-08, 1.70918014e-07],\n",
       "       [1.00000000e+00, 1.35355013e-22, 5.78760745e-21],\n",
       "       [9.99992728e-01, 1.29787907e-07, 7.15230817e-06],\n",
       "       [1.00000000e+00, 7.53076107e-32, 8.52593012e-30],\n",
       "       [2.01624945e-01, 4.36761230e-02, 7.54698932e-01],\n",
       "       [1.00000000e+00, 0.00000000e+00, 0.00000000e+00],\n",
       "       [1.00000000e+00, 2.12022955e-18, 1.31176123e-21],\n",
       "       [1.00000000e+00, 0.00000000e+00, 0.00000000e+00],\n",
       "       [8.60000908e-01, 1.39592424e-01, 4.06678882e-04],\n",
       "       [1.00000000e+00, 5.04652625e-26, 2.07326301e-27],\n",
       "       [1.00000000e+00, 2.80423045e-35, 1.24291236e-29],\n",
       "       [9.99449193e-01, 6.05387686e-05, 4.90303501e-04],\n",
       "       [1.00000000e+00, 1.04929646e-20, 4.31805001e-28],\n",
       "       [1.00000000e+00, 1.74176125e-31, 0.00000000e+00],\n",
       "       [1.00000000e+00, 0.00000000e+00, 1.12220654e-27],\n",
       "       [4.35165384e-05, 9.98573661e-01, 1.38271216e-03],\n",
       "       [1.00000000e+00, 0.00000000e+00, 1.18397261e-25],\n",
       "       [9.99999762e-01, 1.28287738e-07, 8.82419542e-08],\n",
       "       [1.00000000e+00, 1.15216619e-22, 2.36916087e-18],\n",
       "       [1.00000000e+00, 1.42560508e-09, 8.94298136e-10],\n",
       "       [8.77858639e-01, 1.21378720e-01, 7.62720418e-04],\n",
       "       [1.00000000e+00, 1.73365144e-34, 6.56859903e-24],\n",
       "       [1.00000000e+00, 1.58195314e-11, 1.13829105e-15],\n",
       "       [1.00000000e+00, 5.93628648e-08, 4.21123261e-08],\n",
       "       [1.00000000e+00, 0.00000000e+00, 0.00000000e+00],\n",
       "       [1.00000000e+00, 1.19556532e-23, 1.28123071e-24],\n",
       "       [1.00000000e+00, 2.36737821e-13, 1.45537006e-21],\n",
       "       [1.00000000e+00, 2.24716736e-28, 2.36447190e-28],\n",
       "       [1.00000000e+00, 1.07709659e-21, 1.43602690e-17],\n",
       "       [1.00000000e+00, 1.18814675e-28, 1.34046912e-20],\n",
       "       [1.00000000e+00, 0.00000000e+00, 9.53694229e-37],\n",
       "       [1.00000000e+00, 0.00000000e+00, 0.00000000e+00],\n",
       "       [2.32801358e-06, 5.68677545e-01, 4.31320101e-01],\n",
       "       [1.00000000e+00, 0.00000000e+00, 4.26412168e-17],\n",
       "       [1.00000000e+00, 3.25437936e-35, 8.41726373e-27],\n",
       "       [9.91549015e-01, 1.47672684e-03, 6.97425613e-03],\n",
       "       [1.00000000e+00, 3.22321368e-24, 7.41971995e-14],\n",
       "       [1.00000000e+00, 4.72977932e-23, 2.67100670e-24],\n",
       "       [3.65675601e-06, 2.67612470e-18, 9.99996305e-01],\n",
       "       [1.00000000e+00, 1.31575440e-15, 9.45297920e-12],\n",
       "       [3.58053029e-01, 3.80272657e-01, 2.61674285e-01],\n",
       "       [9.99920487e-01, 3.20831750e-05, 4.74151821e-05],\n",
       "       [5.72245792e-02, 9.01553869e-01, 4.12216112e-02],\n",
       "       [1.00000000e+00, 2.45765837e-13, 2.70678569e-15],\n",
       "       [1.00000000e+00, 2.02668677e-29, 6.13598647e-30],\n",
       "       [1.00000000e+00, 6.94684179e-20, 2.55686094e-14],\n",
       "       [1.00000000e+00, 9.70404474e-34, 2.26950975e-32],\n",
       "       [9.99999046e-01, 1.48383386e-08, 9.61900469e-07],\n",
       "       [1.00000000e+00, 2.10779069e-29, 5.80780112e-28],\n",
       "       [1.00000000e+00, 0.00000000e+00, 1.18773143e-33],\n",
       "       [9.99999881e-01, 9.01098147e-08, 1.12388911e-10],\n",
       "       [2.18964890e-01, 1.46538136e-03, 7.79569685e-01],\n",
       "       [1.00000000e+00, 1.58817970e-09, 3.93768618e-09],\n",
       "       [7.26444593e-19, 1.00000000e+00, 4.66229235e-33],\n",
       "       [1.00000000e+00, 0.00000000e+00, 2.01946635e-26],\n",
       "       [1.00000000e+00, 4.09279767e-31, 1.93722575e-26],\n",
       "       [1.00000000e+00, 2.91165258e-13, 1.12862107e-11],\n",
       "       [1.00000000e+00, 3.15633957e-17, 2.49793269e-13],\n",
       "       [1.00000000e+00, 4.28042665e-36, 8.49505906e-22],\n",
       "       [1.50532374e-04, 9.99849439e-01, 3.54572288e-10],\n",
       "       [1.00000000e+00, 0.00000000e+00, 0.00000000e+00],\n",
       "       [1.00000000e+00, 5.21727369e-20, 3.29442826e-14],\n",
       "       [1.00000000e+00, 1.41235816e-11, 1.50952167e-11],\n",
       "       [1.00000000e+00, 2.62494755e-08, 1.43028818e-11],\n",
       "       [1.00000000e+00, 3.80639897e-18, 1.55545594e-11],\n",
       "       [1.00000000e+00, 0.00000000e+00, 0.00000000e+00],\n",
       "       [8.35968410e-15, 6.31255673e-11, 1.00000000e+00],\n",
       "       [1.00000000e+00, 7.51538707e-15, 1.72255168e-10],\n",
       "       [1.00000000e+00, 2.70698741e-11, 5.73147716e-08],\n",
       "       [7.78998255e-10, 3.56575438e-05, 9.99964356e-01],\n",
       "       [1.00000000e+00, 2.66788231e-15, 1.44804314e-14],\n",
       "       [9.90576148e-01, 1.46757335e-13, 9.42382682e-03],\n",
       "       [1.00000000e+00, 2.63604458e-24, 4.93597273e-23],\n",
       "       [1.01889241e-02, 4.65388209e-01, 5.24422884e-01],\n",
       "       [9.99999881e-01, 3.31092345e-08, 1.02366563e-07],\n",
       "       [7.14039803e-02, 1.63553394e-02, 9.12240684e-01],\n",
       "       [1.00000000e+00, 0.00000000e+00, 0.00000000e+00],\n",
       "       [7.15286490e-32, 1.00000000e+00, 2.99253071e-29],\n",
       "       [0.00000000e+00, 1.00000000e+00, 1.57857780e-29],\n",
       "       [1.25051282e-13, 1.00000000e+00, 9.17691877e-12],\n",
       "       [0.00000000e+00, 1.00000000e+00, 0.00000000e+00],\n",
       "       [0.00000000e+00, 1.00000000e+00, 1.49392794e-38],\n",
       "       [5.21604197e-05, 9.96160626e-01, 3.78727121e-03],\n",
       "       [4.61025041e-15, 1.00000000e+00, 2.37848563e-20],\n",
       "       [0.00000000e+00, 1.00000000e+00, 0.00000000e+00],\n",
       "       [2.92014602e-06, 9.20070524e-05, 9.99905109e-01],\n",
       "       [1.00000000e+00, 1.50018635e-24, 5.77124012e-24],\n",
       "       [6.84333732e-04, 9.99312401e-01, 3.25872816e-06],\n",
       "       [1.00000000e+00, 7.10956646e-37, 2.09342190e-30],\n",
       "       [3.12677234e-01, 4.10702109e-01, 2.76620656e-01],\n",
       "       [3.76171607e-04, 9.87329841e-01, 1.22939767e-02],\n",
       "       [9.91964102e-01, 6.90066209e-03, 1.13522867e-03],\n",
       "       [2.10419739e-16, 1.00000000e+00, 5.84803448e-15],\n",
       "       [3.02611198e-08, 1.00000000e+00, 9.19091203e-09],\n",
       "       [5.31700725e-36, 1.00000000e+00, 0.00000000e+00],\n",
       "       [2.76176888e-33, 1.00000000e+00, 1.21905673e-24],\n",
       "       [8.99435805e-16, 1.00000000e+00, 7.73959672e-13],\n",
       "       [4.26416729e-26, 1.00000000e+00, 1.26883108e-19],\n",
       "       [6.85900826e-13, 1.00000000e+00, 1.25751062e-14],\n",
       "       [4.46795216e-13, 1.87363731e-12, 1.00000000e+00],\n",
       "       [1.41327556e-28, 1.00000000e+00, 5.09580676e-30],\n",
       "       [1.48440937e-20, 1.00000000e+00, 7.55494300e-14],\n",
       "       [3.42895269e-01, 4.86024112e-01, 1.71080589e-01],\n",
       "       [1.24142919e-14, 1.00000000e+00, 4.06615752e-15],\n",
       "       [1.46037855e-24, 1.00000000e+00, 5.95752439e-33],\n",
       "       [4.60370317e-19, 1.00000000e+00, 7.22081693e-20],\n",
       "       [8.68238377e-24, 1.58310916e-11, 1.00000000e+00],\n",
       "       [1.76032446e-02, 9.61572230e-01, 2.08245758e-02],\n",
       "       [5.92173457e-01, 3.23010236e-01, 8.48162472e-02],\n",
       "       [1.52979666e-26, 1.00000000e+00, 2.22441831e-23],\n",
       "       [9.99986649e-01, 2.24475298e-06, 1.11011750e-05],\n",
       "       [5.48128878e-14, 1.00000000e+00, 7.23873086e-16],\n",
       "       [1.94386286e-14, 1.00000000e+00, 3.44828143e-13],\n",
       "       [6.73967899e-30, 1.00000000e+00, 1.44026293e-16],\n",
       "       [1.03025652e-23, 1.00000000e+00, 1.27167238e-24],\n",
       "       [1.03225584e-05, 9.99547422e-01, 4.42185003e-04],\n",
       "       [9.56283963e-38, 1.00000000e+00, 3.74723313e-31],\n",
       "       [7.68220052e-05, 9.99918580e-01, 4.67681502e-06],\n",
       "       [1.00000000e+00, 1.23014144e-25, 7.65494652e-20],\n",
       "       [7.14625016e-36, 1.00000000e+00, 7.71592115e-29],\n",
       "       [0.00000000e+00, 1.00000000e+00, 0.00000000e+00],\n",
       "       [4.52976719e-12, 9.98815536e-01, 1.18449610e-03],\n",
       "       [5.89464111e-12, 1.00000000e+00, 5.80952259e-23],\n",
       "       [3.08238271e-13, 1.00000000e+00, 3.14914192e-13],\n",
       "       [1.36389378e-17, 1.00000000e+00, 4.66632314e-14],\n",
       "       [9.03983235e-01, 8.58863369e-02, 1.01304427e-02],\n",
       "       [1.18377509e-23, 1.00000000e+00, 9.61932700e-31],\n",
       "       [9.57145393e-01, 3.56778465e-02, 7.17667677e-03],\n",
       "       [2.28984618e-06, 3.11428096e-07, 9.99997377e-01],\n",
       "       [4.29996341e-23, 1.00000000e+00, 4.65467813e-14],\n",
       "       [1.27431919e-13, 9.98873889e-01, 1.12606422e-03],\n",
       "       [5.08119822e-01, 9.16428917e-07, 4.91879255e-01],\n",
       "       [1.46961027e-17, 1.00000000e+00, 4.13755752e-10],\n",
       "       [3.62757557e-34, 1.00000000e+00, 2.34426372e-36],\n",
       "       [2.41066620e-04, 1.50817141e-05, 9.99743879e-01],\n",
       "       [9.73437905e-01, 2.01364607e-02, 6.42567966e-03],\n",
       "       [4.17870563e-35, 1.00000000e+00, 0.00000000e+00],\n",
       "       [8.60391010e-05, 1.62302153e-04, 9.99751627e-01],\n",
       "       [2.50014516e-20, 1.00000000e+00, 2.04124305e-21],\n",
       "       [2.45198421e-35, 1.00000000e+00, 1.01897479e-26],\n",
       "       [1.64498506e-05, 9.99908209e-01, 7.53175409e-05],\n",
       "       [3.79413685e-17, 1.00000000e+00, 4.54507457e-18],\n",
       "       [8.68998470e-21, 1.00000000e+00, 4.81084026e-18],\n",
       "       [1.20937954e-26, 1.00000000e+00, 4.45652686e-37],\n",
       "       [7.48614892e-02, 4.37188566e-01, 4.87949938e-01],\n",
       "       [2.92727649e-01, 5.02338767e-01, 2.04933554e-01],\n",
       "       [4.20706865e-14, 1.00000000e+00, 5.07412275e-14],\n",
       "       [5.48703752e-23, 1.00000000e+00, 8.14687667e-35],\n",
       "       [4.12171252e-12, 9.99999881e-01, 7.37593027e-08],\n",
       "       [2.13721790e-10, 1.00000000e+00, 1.54539426e-09],\n",
       "       [4.25339490e-03, 2.67482493e-02, 9.68998373e-01],\n",
       "       [6.22819737e-03, 9.91522908e-01, 2.24887300e-03],\n",
       "       [1.35457003e-02, 1.74339358e-02, 9.69020367e-01],\n",
       "       [1.78552622e-20, 3.66902247e-18, 1.00000000e+00],\n",
       "       [0.00000000e+00, 1.00000000e+00, 4.71440158e-28],\n",
       "       [6.57929957e-01, 2.80951353e-04, 3.41789186e-01],\n",
       "       [1.00585226e-25, 1.00000000e+00, 1.48788193e-16],\n",
       "       [0.00000000e+00, 0.00000000e+00, 1.00000000e+00],\n",
       "       [9.52663273e-03, 2.19523191e-08, 9.90473330e-01],\n",
       "       [0.00000000e+00, 1.83827371e-35, 1.00000000e+00],\n",
       "       [0.00000000e+00, 0.00000000e+00, 1.00000000e+00],\n",
       "       [7.12829406e-25, 0.00000000e+00, 1.00000000e+00],\n",
       "       [1.16912588e-25, 1.00000000e+00, 8.55830758e-18],\n",
       "       [2.72590917e-26, 0.00000000e+00, 1.00000000e+00],\n",
       "       [1.61587821e-09, 1.02578595e-08, 1.00000000e+00],\n",
       "       [0.00000000e+00, 5.38855259e-22, 1.00000000e+00],\n",
       "       [1.17492941e-17, 1.01296786e-18, 1.00000000e+00],\n",
       "       [2.08582009e-20, 8.49303411e-33, 1.00000000e+00],\n",
       "       [3.11535076e-10, 6.64748421e-13, 1.00000000e+00],\n",
       "       [3.26329925e-16, 2.35927759e-17, 1.00000000e+00],\n",
       "       [2.45251390e-38, 0.00000000e+00, 1.00000000e+00],\n",
       "       [1.18964263e-22, 1.31494089e-31, 1.00000000e+00],\n",
       "       [0.00000000e+00, 0.00000000e+00, 1.00000000e+00],\n",
       "       [6.94004459e-32, 7.35371331e-29, 1.00000000e+00],\n",
       "       [0.00000000e+00, 0.00000000e+00, 1.00000000e+00],\n",
       "       [2.17393157e-18, 1.92943094e-14, 1.00000000e+00],\n",
       "       [5.27737099e-25, 0.00000000e+00, 1.00000000e+00],\n",
       "       [1.41763091e-31, 0.00000000e+00, 1.00000000e+00],\n",
       "       [1.37430890e-38, 6.03979680e-30, 1.00000000e+00],\n",
       "       [3.01821491e-34, 1.03701534e-22, 1.00000000e+00],\n",
       "       [3.64783903e-32, 5.31820165e-37, 1.00000000e+00],\n",
       "       [2.43501175e-34, 0.00000000e+00, 1.00000000e+00],\n",
       "       [4.92209875e-37, 0.00000000e+00, 1.00000000e+00],\n",
       "       [6.72697719e-34, 0.00000000e+00, 1.00000000e+00],\n",
       "       [1.31314644e-16, 2.54977439e-22, 1.00000000e+00],\n",
       "       [5.24576360e-38, 0.00000000e+00, 1.00000000e+00],\n",
       "       [1.04523768e-12, 3.90150938e-13, 1.00000000e+00],\n",
       "       [6.06747898e-17, 2.98096844e-35, 1.00000000e+00],\n",
       "       [5.56782158e-28, 5.87016754e-28, 1.00000000e+00],\n",
       "       [1.22239836e-01, 6.87692985e-02, 8.08990896e-01],\n",
       "       [1.45376718e-20, 4.76549472e-30, 1.00000000e+00],\n",
       "       [0.00000000e+00, 0.00000000e+00, 1.00000000e+00],\n",
       "       [0.00000000e+00, 6.24466221e-28, 1.00000000e+00],\n",
       "       [3.30767363e-01, 3.98640394e-01, 2.70592272e-01],\n",
       "       [1.23908620e-12, 1.38361466e-15, 1.00000000e+00],\n",
       "       [1.07980828e-20, 4.44434879e-17, 1.00000000e+00],\n",
       "       [0.00000000e+00, 0.00000000e+00, 1.00000000e+00],\n",
       "       [3.18374805e-28, 0.00000000e+00, 1.00000000e+00],\n",
       "       [3.32351044e-33, 0.00000000e+00, 1.00000000e+00],\n",
       "       [2.94771780e-16, 2.50951260e-10, 1.00000000e+00],\n",
       "       [1.64378775e-12, 2.86367718e-12, 1.00000000e+00],\n",
       "       [0.00000000e+00, 0.00000000e+00, 1.00000000e+00],\n",
       "       [7.91011011e-38, 3.97948976e-29, 1.00000000e+00],\n",
       "       [4.99362534e-22, 6.86872037e-25, 1.00000000e+00],\n",
       "       [4.60313067e-16, 7.44992050e-19, 1.00000000e+00],\n",
       "       [2.01770251e-19, 1.03551471e-19, 1.00000000e+00],\n",
       "       [1.63952463e-10, 1.16249119e-07, 9.99999881e-01],\n",
       "       [4.80156460e-25, 0.00000000e+00, 1.00000000e+00],\n",
       "       [0.00000000e+00, 0.00000000e+00, 1.00000000e+00],\n",
       "       [1.42776879e-16, 5.01654436e-19, 1.00000000e+00],\n",
       "       [9.33504736e-38, 0.00000000e+00, 1.00000000e+00],\n",
       "       [4.10815405e-18, 1.49725145e-19, 1.00000000e+00],\n",
       "       [8.51491766e-10, 1.00000000e+00, 2.03394024e-10],\n",
       "       [0.00000000e+00, 0.00000000e+00, 1.00000000e+00],\n",
       "       [1.06565019e-19, 1.56710392e-13, 1.00000000e+00],\n",
       "       [1.47096398e-06, 2.66850581e-14, 9.99998569e-01],\n",
       "       [8.33431932e-27, 0.00000000e+00, 1.00000000e+00],\n",
       "       [1.93942673e-21, 4.98345958e-16, 1.00000000e+00],\n",
       "       [5.63939937e-24, 1.89846196e-16, 1.00000000e+00],\n",
       "       [9.51636145e-32, 3.59694900e-31, 1.00000000e+00],\n",
       "       [1.86014191e-27, 0.00000000e+00, 1.00000000e+00],\n",
       "       [0.00000000e+00, 0.00000000e+00, 1.00000000e+00],\n",
       "       [0.00000000e+00, 5.13644597e-35, 1.00000000e+00],\n",
       "       [2.67992694e-24, 4.38980583e-25, 1.00000000e+00],\n",
       "       [9.87869442e-19, 4.54754453e-30, 1.00000000e+00],\n",
       "       [7.60864764e-02, 8.38278368e-07, 9.23912704e-01],\n",
       "       [1.27352807e-37, 0.00000000e+00, 1.00000000e+00],\n",
       "       [1.32084874e-30, 6.93644173e-18, 1.00000000e+00],\n",
       "       [4.05632854e-11, 3.96148609e-19, 1.00000000e+00],\n",
       "       [0.00000000e+00, 2.74520178e-20, 1.00000000e+00],\n",
       "       [1.25280849e-03, 2.67630294e-02, 9.71984148e-01],\n",
       "       [1.61104481e-15, 2.27952839e-08, 1.00000000e+00],\n",
       "       [9.45071927e-28, 5.36959380e-29, 1.00000000e+00],\n",
       "       [9.99967217e-01, 2.44469822e-09, 3.28105998e-05],\n",
       "       [0.00000000e+00, 0.00000000e+00, 1.00000000e+00],\n",
       "       [1.00000000e+00, 3.37821155e-37, 0.00000000e+00],\n",
       "       [2.82913755e-27, 3.33870812e-33, 1.00000000e+00]], dtype=float32)"
      ]
     },
     "execution_count": 179,
     "metadata": {},
     "output_type": "execute_result"
    }
   ],
   "source": [
    "y_pred"
   ]
  },
  {
   "cell_type": "code",
   "execution_count": 189,
   "metadata": {},
   "outputs": [
    {
     "data": {
      "text/plain": [
       "<matplotlib.image.AxesImage at 0x26f193092e0>"
      ]
     },
     "execution_count": 189,
     "metadata": {},
     "output_type": "execute_result"
    },
    {
     "data": {
      "image/png": "[encoded data removed]",
      "text/plain": [
       "<Figure size 432x288 with 1 Axes>"
      ]
     },
     "metadata": {
      "needs_background": "light"
     },
     "output_type": "display_data"
    }
   ],
   "source": [
    "plt.imshow(data_test[82])"
   ]
  },
  {
   "cell_type": "code",
   "execution_count": 190,
   "metadata": {},
   "outputs": [
    {
     "data": {
      "text/plain": [
       "<tf.Tensor: shape=(3,), dtype=float32, numpy=array([0.21194157, 0.5761169 , 0.21194157], dtype=float32)>"
      ]
     },
     "execution_count": 190,
     "metadata": {},
     "output_type": "execute_result"
    }
   ],
   "source": [
    "score = tf.nn.softmax(y_pred[82])\n",
    "score"
   ]
  },
  {
   "cell_type": "code",
   "execution_count": 191,
   "metadata": {},
   "outputs": [
    {
     "data": {
      "text/plain": [
       "1"
      ]
     },
     "execution_count": 191,
     "metadata": {},
     "output_type": "execute_result"
    }
   ],
   "source": [
    "np.argmax(score)"
   ]
  },
  {
   "cell_type": "code",
   "execution_count": 193,
   "metadata": {},
   "outputs": [
    {
     "data": {
      "text/plain": [
       "1"
      ]
     },
     "execution_count": 193,
     "metadata": {},
     "output_type": "execute_result"
    }
   ],
   "source": [
    "labels_test[82]"
   ]
  },
  {
   "cell_type": "code",
   "execution_count": 194,
   "metadata": {},
   "outputs": [
    {
     "data": {
      "text/plain": [
       "array([0, 0, 0, 0, 0, 0, 0, 2, 0, 0, 0, 0, 0, 0, 0, 0, 0, 0, 1, 0, 0, 0,\n",
       "       0, 0, 0, 0, 0, 0, 0, 0, 0, 0, 0, 0, 0, 1, 0, 0, 0, 0, 0, 2, 0, 1,\n",
       "       0, 1, 0, 0, 0, 0, 0, 0, 0, 0, 2, 0, 1, 0, 0, 0, 0, 0, 1, 0, 0, 0,\n",
       "       0, 0, 0, 2, 0, 0, 2, 0, 0, 0, 2, 0, 2, 0, 1, 1, 1, 1, 1, 1, 1, 1,\n",
       "       2, 0, 1, 0, 1, 1, 0, 1, 1, 1, 1, 1, 1, 1, 2, 1, 1, 1, 1, 1, 1, 2,\n",
       "       1, 0, 1, 0, 1, 1, 1, 1, 1, 1, 1, 0, 1, 1, 1, 1, 1, 1, 0, 1, 0, 2,\n",
       "       1, 1, 0, 1, 1, 2, 0, 1, 2, 1, 1, 1, 1, 1, 1, 2, 1, 1, 1, 1, 1, 2,\n",
       "       1, 2, 2, 1, 0, 1, 2, 2, 2, 2, 2, 1, 2, 2, 2, 2, 2, 2, 2, 2, 2, 2,\n",
       "       2, 2, 2, 2, 2, 2, 2, 2, 2, 2, 2, 2, 2, 2, 2, 2, 2, 2, 2, 2, 1, 2,\n",
       "       2, 2, 2, 2, 2, 2, 2, 2, 2, 2, 2, 2, 2, 2, 2, 2, 2, 1, 2, 2, 2, 2,\n",
       "       2, 2, 2, 2, 2, 2, 2, 2, 2, 2, 2, 2, 2, 2, 2, 2, 0, 2, 0, 2],\n",
       "      dtype=int64)"
      ]
     },
     "execution_count": 194,
     "metadata": {},
     "output_type": "execute_result"
    }
   ],
   "source": [
    "classes_x=np.argmax(y_pred,axis=1)\n",
    "classes_x"
   ]
  },
  {
   "cell_type": "code",
   "execution_count": 195,
   "metadata": {},
   "outputs": [
    {
     "name": "stdout",
     "output_type": "stream",
     "text": [
      "0.8375\n"
     ]
    }
   ],
   "source": [
    "#Accuracy with the test data\n",
    "from sklearn.metrics import accuracy_score\n",
    "print(accuracy_score(labels_test, classes_x))\n",
    "# 0.9540775930324624 Acc"
   ]
  },
  {
   "cell_type": "code",
   "execution_count": 196,
   "metadata": {},
   "outputs": [],
   "source": [
    "model.save('bus-car-moto-normaldata.h5')#to save"
   ]
  },
  {
   "cell_type": "code",
   "execution_count": 199,
   "metadata": {},
   "outputs": [
    {
     "data": {
      "text/plain": [
       "array([[67,  6,  7],\n",
       "       [11, 59, 10],\n",
       "       [ 2,  3, 75]], dtype=int64)"
      ]
     },
     "execution_count": 199,
     "metadata": {},
     "output_type": "execute_result"
    }
   ],
   "source": [
    "from sklearn.metrics import confusion_matrix\n",
    "conf = confusion_matrix(labels_test, classes_x)\n",
    "conf"
   ]
  },
  {
   "cell_type": "code",
   "execution_count": 205,
   "metadata": {},
   "outputs": [
    {
     "data": {
      "text/plain": [
       "240"
      ]
     },
     "execution_count": 205,
     "metadata": {},
     "output_type": "execute_result"
    }
   ],
   "source": [
    "len(classes_x)"
   ]
  },
  {
   "cell_type": "code",
   "execution_count": 207,
   "metadata": {},
   "outputs": [
    {
     "name": "stdout",
     "output_type": "stream",
     "text": [
      "Acc from confusion matrix:  0.8375\n"
     ]
    }
   ],
   "source": [
    "print('Acc from confusion matrix: ', (conf[0][0] + conf[1][1] + conf[2][2])/len(classes_x))"
   ]
  },
  {
   "cell_type": "code",
   "execution_count": 218,
   "metadata": {},
   "outputs": [
    {
     "data": {
      "image/png": "[encoded data removed]",
      "text/plain": [
       "<Figure size 432x288 with 2 Axes>"
      ]
     },
     "metadata": {
      "needs_background": "light"
     },
     "output_type": "display_data"
    }
   ],
   "source": [
    "import seaborn as sns\n",
    "f = sns.heatmap(conf, annot=True, fmt='d')\n",
    "f.set_title('Seaborn Confusion Matrix with labels\\n\\n');\n",
    "f.set_xlabel('\\nPredicted Values')\n",
    "f.set_ylabel('Actual Values ');\n",
    "plt.show()"
   ]
  },
  {
   "cell_type": "code",
   "execution_count": 212,
   "metadata": {},
   "outputs": [
    {
     "name": "stderr",
     "output_type": "stream",
     "text": [
      "c:\\ProgramData\\Anaconda3\\lib\\site-packages\\sklearn\\utils\\deprecation.py:87: FutureWarning: Function plot_confusion_matrix is deprecated; Function `plot_confusion_matrix` is deprecated in 1.0 and will be removed in 1.2. Use one of the class methods: ConfusionMatrixDisplay.from_predictions or ConfusionMatrixDisplay.from_estimator.\n",
      "  warnings.warn(msg, category=FutureWarning)\n"
     ]
    },
    {
     "data": {
      "text/plain": [
       "<sklearn.metrics._plot.confusion_matrix.ConfusionMatrixDisplay at 0x26f145a2b80>"
      ]
     },
     "execution_count": 212,
     "metadata": {},
     "output_type": "execute_result"
    },
    {
     "data": {
      "image/png": "[encoded data removed]",
      "text/plain": [
       "<Figure size 432x288 with 2 Axes>"
      ]
     },
     "metadata": {
      "needs_background": "light"
     },
     "output_type": "display_data"
    }
   ],
   "source": [
    "from sklearn.metrics import plot_confusion_matrix\n",
    "IC = type('IdentityClassifier', (), {\"predict\": lambda i : i, \"_estimator_type\": \"classifier\"})\n",
    "plot_confusion_matrix(IC, classes_x, labels_test, normalize='true', values_format='.2%')"
   ]
  },
  {
   "cell_type": "code",
   "execution_count": 220,
   "metadata": {},
   "outputs": [
    {
     "data": {
      "text/plain": [
       "67.0"
      ]
     },
     "execution_count": 220,
     "metadata": {},
     "output_type": "execute_result"
    }
   ],
   "source": [
    "0.8375 * 80"
   ]
  },
  {
   "cell_type": "markdown",
   "metadata": {},
   "source": [
    "## -----------------------------------&------------------------------------"
   ]
  },
  {
   "cell_type": "markdown",
   "metadata": {},
   "source": [
    "##  Augmentation Data"
   ]
  },
  {
   "cell_type": "code",
   "execution_count": 373,
   "metadata": {},
   "outputs": [],
   "source": [
    "from keras.preprocessing.image import ImageDataGenerator\n",
    "from skimage import io\n",
    "# Construct an instance of the ImageDataGenerator class\n",
    "# Pass the augmentation parameters through the constructor. \n",
    "\n",
    "datagen = ImageDataGenerator(\n",
    "        rotation_range=45,     #Random rotation between 0 and 45\n",
    "        width_shift_range=0.2,   #% shift\n",
    "        height_shift_range=0.2,\n",
    "        shear_range=0.2,\n",
    "        zoom_range=0.2,\n",
    "        horizontal_flip=True,\n",
    "        fill_mode='constant', cval=125)"
   ]
  },
  {
   "cell_type": "code",
   "execution_count": 387,
   "metadata": {},
   "outputs": [
    {
     "name": "stdout",
     "output_type": "stream",
     "text": [
      "Found 400 images belonging to 1 classes.\n"
     ]
    }
   ],
   "source": [
    "i = 0\n",
    "for batch in datagen.flow_from_directory(directory='bus', \n",
    "                                         batch_size=128,  \n",
    "                                         target_size=(180, 180),\n",
    "                                         color_mode=\"rgb\",\n",
    "                                         save_to_dir='Augmented_datatrain/0/', \n",
    "                                         save_prefix='aug', \n",
    "                                         save_format='jpg'):\n",
    "    i += 1\n",
    "    if i > 10:\n",
    "        break "
   ]
  },
  {
   "cell_type": "code",
   "execution_count": 388,
   "metadata": {},
   "outputs": [
    {
     "name": "stdout",
     "output_type": "stream",
     "text": [
      "Found 324 images belonging to 1 classes.\n"
     ]
    }
   ],
   "source": [
    "i = 0\n",
    "for batch in datagen.flow_from_directory(directory='car', \n",
    "                                         batch_size=128,  \n",
    "                                         target_size=(180, 180),\n",
    "                                         color_mode=\"rgb\",\n",
    "                                         save_to_dir='Augmented_datatrain/1/', \n",
    "                                         save_prefix='aug', \n",
    "                                         save_format='jpg'):\n",
    "    i += 1\n",
    "    if i > 10:\n",
    "        break "
   ]
  },
  {
   "cell_type": "code",
   "execution_count": 389,
   "metadata": {},
   "outputs": [
    {
     "name": "stdout",
     "output_type": "stream",
     "text": [
      "Found 400 images belonging to 1 classes.\n"
     ]
    }
   ],
   "source": [
    "i = 0\n",
    "for batch in datagen.flow_from_directory(directory='moto', \n",
    "                                         batch_size=128,  \n",
    "                                         target_size=(180, 180),\n",
    "                                         color_mode=\"rgb\",\n",
    "                                         save_to_dir='Augmented_datatrain/2/', \n",
    "                                         save_prefix='aug', \n",
    "                                         save_format='jpg'):\n",
    "    i += 1\n",
    "    if i > 10:\n",
    "        break "
   ]
  },
  {
   "cell_type": "markdown",
   "metadata": {},
   "source": [
    "## Begin traning\n",
    "## >> Compare performance with model traned on regular dataset "
   ]
  },
  {
   "cell_type": "code",
   "execution_count": 390,
   "metadata": {},
   "outputs": [
    {
     "data": {
      "text/plain": [
       "'c:\\\\Users\\\\HoPhucTrang\\\\Desktop\\\\Intership_TMA\\\\Task\\\\middle'"
      ]
     },
     "execution_count": 390,
     "metadata": {},
     "output_type": "execute_result"
    }
   ],
   "source": [
    "data = []\n",
    "labels = []\n",
    "classes = 3 \n",
    "cur_path = os.getcwd() \n",
    "cur_path"
   ]
  },
  {
   "cell_type": "code",
   "execution_count": 391,
   "metadata": {},
   "outputs": [],
   "source": [
    "for i in range(classes): \n",
    "    path = os. path.join(cur_path,'Augmented_datatrain', str(i)) \n",
    "    images = os.listdir(path) \n",
    "    for a in images: \n",
    "        image = cv2.imread(str(path + '/' + a)) \n",
    "        image = cv2.resize(image, (180,180)) \n",
    "        # image = np.array(image)\n",
    "        data.append(image) \n",
    "        labels.append(i) "
   ]
  },
  {
   "cell_type": "code",
   "execution_count": 392,
   "metadata": {},
   "outputs": [],
   "source": [
    "data = np.array(data)\n",
    "labels = np.array(labels)"
   ]
  },
  {
   "cell_type": "code",
   "execution_count": 393,
   "metadata": {},
   "outputs": [
    {
     "data": {
      "text/plain": [
       "3596"
      ]
     },
     "execution_count": 393,
     "metadata": {},
     "output_type": "execute_result"
    }
   ],
   "source": [
    "len(data)"
   ]
  },
  {
   "cell_type": "code",
   "execution_count": 394,
   "metadata": {},
   "outputs": [],
   "source": [
    "#Splitting training and testing dataset\n",
    "X_train, X_val, y_train, y_val = train_test_split(data, labels, test_size=0.2, random_state=42)\n",
    "# validation_data 20% ./"
   ]
  },
  {
   "cell_type": "code",
   "execution_count": 395,
   "metadata": {},
   "outputs": [
    {
     "name": "stdout",
     "output_type": "stream",
     "text": [
      "(2876, 180, 180, 3)\n",
      "(720, 180, 180, 3)\n"
     ]
    }
   ],
   "source": [
    "print(X_train.shape)\n",
    "print(X_val.shape)"
   ]
  },
  {
   "cell_type": "code",
   "execution_count": 396,
   "metadata": {},
   "outputs": [],
   "source": [
    "y_train = to_categorical(y_train, 3)\n",
    "y_val = to_categorical(y_val, 3)"
   ]
  },
  {
   "cell_type": "code",
   "execution_count": 397,
   "metadata": {},
   "outputs": [
    {
     "data": {
      "text/plain": [
       "(180, 180, 3)"
      ]
     },
     "execution_count": 397,
     "metadata": {},
     "output_type": "execute_result"
    }
   ],
   "source": [
    "input= X_train.shape[1:]\n",
    "input"
   ]
  },
  {
   "cell_type": "code",
   "execution_count": 398,
   "metadata": {},
   "outputs": [],
   "source": [
    "#Building the model\n",
    "model = Sequential()\n",
    "model.add(Conv2D(filters=32, kernel_size=(5,5), activation='relu', input_shape=input))\n",
    "model.add(Conv2D(filters=32, kernel_size=(5,5), activation='relu'))\n",
    "model.add(MaxPool2D(pool_size=(2, 2)))\n",
    "model.add(Dropout(rate=0.25))\n",
    "model.add(Conv2D(filters=64, kernel_size=(3, 3), activation='relu'))\n",
    "model.add(Conv2D(filters=64, kernel_size=(3, 3), activation='relu'))\n",
    "model.add(MaxPool2D(pool_size=(2, 2)))\n",
    "model.add(Dropout(rate=0.25))\n",
    "model.add(Flatten())\n",
    "model.add(Dense(256, activation='relu'))\n",
    "model.add(Dropout(rate=0.5))\n",
    "model.add(Dense(3, activation='softmax'))"
   ]
  },
  {
   "cell_type": "code",
   "execution_count": 399,
   "metadata": {},
   "outputs": [],
   "source": [
    "#Compilation of the model\n",
    "model.compile(loss='categorical_crossentropy', optimizer='adam', metrics=['accuracy'])"
   ]
  },
  {
   "cell_type": "code",
   "execution_count": null,
   "metadata": {},
   "outputs": [],
   "source": [
    "epochs = 15\n",
    "history = model.fit(X_train, y_train, batch_size=8, epochs=epochs, validation_data=(X_val, y_val))"
   ]
  }
 ],
 "metadata": {
  "kernelspec": {
   "display_name": "Python 3.9.12 ('base')",
   "language": "python",
   "name": "python3"
  },
  "language_info": {
   "codemirror_mode": {
    "name": "ipython",
    "version": 3
   },
   "file_extension": ".py",
   "mimetype": "text/x-python",
   "name": "python",
   "nbconvert_exporter": "python",
   "pygments_lexer": "ipython3",
   "version": "3.9.12"
  },
  "orig_nbformat": 4,
  "vscode": {
   "interpreter": {
    "hash": "ad2bdc8ecc057115af97d19610ffacc2b4e99fae6737bb82f5d7fb13d2f2c186"
   }
  }
 },
 "nbformat": 4,
 "nbformat_minor": 2
}
